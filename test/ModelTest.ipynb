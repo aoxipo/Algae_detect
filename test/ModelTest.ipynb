{
 "cells": [
  {
   "cell_type": "code",
   "execution_count": 2,
   "metadata": {
    "ExecuteTime": {
     "end_time": "2022-10-18T06:00:52.059920Z",
     "start_time": "2022-10-18T06:00:52.052939Z"
    }
   },
   "outputs": [],
   "source": [
    "import sys, os\n",
    "sys.path.append(\"..\")\n",
    "from dataloader import Dataload\n",
    "from utils.plot import plot_rect\n",
    "from torchsummary import summary\n",
    "import torch\n",
    "import cv2\n",
    "import matplotlib.pyplot as plt"
   ]
  },
  {
   "cell_type": "code",
   "execution_count": 98,
   "metadata": {
    "ExecuteTime": {
     "end_time": "2022-10-18T07:07:30.598927Z",
     "start_time": "2022-10-18T07:07:30.574022Z"
    },
    "code_folding": [
     3,
     11,
     26,
     35,
     131
    ]
   },
   "outputs": [],
   "source": [
    "import torch\n",
    "from torch import nn\n",
    "import torch.nn.functional as F\n",
    "def conv_block(in_channel, out_channel):\n",
    "    layer = nn.Sequential(\n",
    "        nn.BatchNorm2d(in_channel),\n",
    "        nn.ReLU(),\n",
    "        nn.Conv2d(in_channel, out_channel, kernel_size=3, padding=1, bias=False)\n",
    "    )\n",
    "    return layer\n",
    "\n",
    "class dense_block(nn.Module):\n",
    "    def __init__(self, in_channel, growth_rate, num_layers):\n",
    "        super(dense_block, self).__init__()\n",
    "        block = []\n",
    "        channel = in_channel\n",
    "        for i in range(num_layers):\n",
    "            block.append(conv_block(channel, growth_rate))\n",
    "            channel += growth_rate\n",
    "        self.net = nn.Sequential(*block)\n",
    "    def forward(self, x):\n",
    "        for layer in self.net:\n",
    "            out = layer(x)\n",
    "            x = torch.cat((out, x), dim=1)\n",
    "        return x\n",
    "\n",
    "def transition(in_channel, out_channel):\n",
    "    trans_layer = nn.Sequential(\n",
    "        nn.BatchNorm2d(in_channel),\n",
    "        nn.ReLU(),\n",
    "        nn.Conv2d(in_channel, out_channel, 1),\n",
    "        nn.AvgPool2d(2, 2)\n",
    "    )\n",
    "    return trans_layer\n",
    "\n",
    "class densenet(nn.Module):\n",
    "    def __init__(self, in_channel, num_classes, growth_rate=32, block_layers=[6, 12, 24, 16], need_return_dic = True):\n",
    "        super(densenet, self).__init__()\n",
    "        self.need_return_dict = need_return_dic\n",
    "        self.block1 = nn.Sequential(\n",
    "\n",
    "            nn.Conv2d(in_channel, 64, 7, 2, 3),\n",
    "            nn.BatchNorm2d(64),\n",
    "            nn.ReLU(True),\n",
    "            nn.MaxPool2d(3, 2, padding=1)\n",
    "            )\n",
    "        self.DB1 = self._make_dense_block(64, growth_rate,num=block_layers[0])\n",
    "        self.TL1 = self._make_transition_layer(256)\n",
    "        self.DB2 = self._make_dense_block(128, growth_rate, num=block_layers[1])\n",
    "        self.TL2 = self._make_transition_layer(512)\n",
    "        self.DB3 = self._make_dense_block(256, growth_rate, num=block_layers[2])\n",
    "        self.TL3 = self._make_transition_layer(1024)\n",
    "        self.DB4 = self._make_dense_block(512, growth_rate, num=block_layers[3])\n",
    "        self.global_average = nn.Sequential(\n",
    "            nn.BatchNorm2d(1024),\n",
    "            nn.ReLU(),\n",
    "            nn.AdaptiveAvgPool2d((1,1)),\n",
    "        )\n",
    "        self.classifier = nn.Linear(1024, num_classes)\n",
    "        #self.ea = nn.Linear(1024,2)\n",
    "    def build_results(self,x):\n",
    "        return {\n",
    "            \"pred_logits\":x,\n",
    "        }\n",
    "    def forward(self, x):\n",
    "        x = self.block1(x)\n",
    "        x = self.DB1(x)\n",
    "        x = self.TL1(x)\n",
    "        x = self.DB2(x)\n",
    "        x = self.TL2(x)\n",
    "        x = self.DB3(x)\n",
    "        x = self.TL3(x)\n",
    "        x = self.DB4(x)\n",
    "        x = self.global_average(x)\n",
    "        x = x.view(x.shape[0], -1)\n",
    "        #print(x.size())\n",
    "        #a = self.ea(x)\n",
    "        #print(a.size())\n",
    "        x = self.classifier(x)\n",
    "        #print(x.size())\n",
    "        return self.build_results(x) if(self.need_return_dict) else x\n",
    "\n",
    "    def _make_dense_block(self,channels, growth_rate, num):\n",
    "        block = []\n",
    "        block.append(dense_block(channels, growth_rate, num))\n",
    "        channels += num * growth_rate\n",
    "\n",
    "        return nn.Sequential(*block)\n",
    "    def _make_transition_layer(self,channels):\n",
    "        block = []\n",
    "        block.append(transition(channels, channels // 2))\n",
    "        return nn.Sequential(*block)\n",
    "\n",
    "class MLP(nn.Module):\n",
    "    \"\"\" Very simple multi-layer perceptron (also called FFN)\"\"\"\n",
    "    def __init__(self, input_dim, hidden_dim, output_dim, num_layers):\n",
    "        super().__init__()\n",
    "        self.num_layers = num_layers\n",
    "        h = [hidden_dim] * (num_layers - 1)\n",
    "        self.layers = nn.ModuleList(nn.Linear(n, k) for n, k in zip([input_dim] + h, h + [output_dim]))\n",
    "    def forward(self, x):\n",
    "        for i, layer in enumerate(self.layers):\n",
    "            x = F.relu(layer(x)) if i < self.num_layers - 1 else layer(x)\n",
    "        x = x.view(x.shape[0], -1, 4)\n",
    "        return x\n",
    "    \n",
    "class ShareMLP(MLP):\n",
    "    def __init__(self, input_dim, hidden_dim, output_dim, num_layers):\n",
    "        super(ShareMLP, self).__init__(input_dim, hidden_dim, output_dim, num_layers)\n",
    "        self.num_layers = num_layers\n",
    "        h = [hidden_dim] * (num_layers - 1)\n",
    "        self.layers = nn.ModuleList(nn.Linear(n, k) for n, k in zip([input_dim] + h, h + [output_dim]))\n",
    "    def forward(self, x):\n",
    "        for i, layer in enumerate(self.layers):\n",
    "            x_src = x\n",
    "            x = F.relu(layer(x)) if i < self.num_layers - 1 else layer(x)\n",
    "            if i < self.num_layers - 1:\n",
    "                x = x + x_src\n",
    "        x = x.view(x.shape[0], -1, 4)\n",
    "        return x\n",
    "    \n",
    "class DenseCoord(densenet):\n",
    "    def __init__(self, in_channel, num_classes, num_queries = 25,growth_rate = 32, block_layers=[6, 12, 24, 16], need_return_dic = True):\n",
    "\n",
    "        super(DenseCoord,self).__init__(in_channel, num_classes, growth_rate=growth_rate, block_layers=block_layers,\n",
    "                                        need_return_dic = need_return_dic)\n",
    "        self.num_classes = num_classes\n",
    "        self.class_embed = nn.Linear(1024, num_classes * num_queries)\n",
    "        self.bbox_embed = MLP(1024, 1024, 4 * num_queries, 3)\n",
    "        #self.bbox_embed = ShareMLP(1024, 1024, 4 * num_queries, 3)\n",
    "        \n",
    "    def build_results(self,x,y):\n",
    "        return {\n",
    "            \"pred_logits\":x,\n",
    "            \"pred_boxes\":y,\n",
    "        }\n",
    "    def feature(self, x):\n",
    "        x = self.block1(x)\n",
    "        x = self.DB1(x)\n",
    "        x = self.TL1(x)\n",
    "        x = self.DB2(x)\n",
    "        x = self.TL2(x)\n",
    "        x = self.DB3(x)\n",
    "        x = self.TL3(x)\n",
    "        x = self.DB4(x)\n",
    "        x = self.global_average(x)\n",
    "        x = x.view(x.shape[0], -1)\n",
    "        return x\n",
    "    def forward(self, x):\n",
    "        feature_map = self.feature(x)\n",
    "        print(feature_map.shape)\n",
    "        class_feature = self.class_embed(feature_map)\n",
    "        outputs_class = class_feature.view(class_feature.shape[0], -1, self.num_classes)    # one-hot\n",
    "        outputs_coord = self.bbox_embed(feature_map).sigmoid()\n",
    "        print(outputs_class.shape)\n",
    "        print(outputs_coord.shape)\n",
    "        return self.build_results(outputs_class, outputs_coord) if (self.need_return_dict) else [outputs_class,outputs_coord]"
   ]
  },
  {
   "cell_type": "code",
   "execution_count": 99,
   "metadata": {
    "ExecuteTime": {
     "end_time": "2022-10-18T07:07:31.411516Z",
     "start_time": "2022-10-18T07:07:31.310455Z"
    }
   },
   "outputs": [],
   "source": [
    "model = DenseCoord(3, 8)"
   ]
  },
  {
   "cell_type": "code",
   "execution_count": 100,
   "metadata": {
    "ExecuteTime": {
     "end_time": "2022-10-18T07:07:31.743142Z",
     "start_time": "2022-10-18T07:07:31.662321Z"
    }
   },
   "outputs": [
    {
     "name": "stdout",
     "output_type": "stream",
     "text": [
      "torch.Size([2, 1024])\n",
      "torch.Size([2, 25, 8])\n",
      "torch.Size([2, 25, 4])\n"
     ]
    }
   ],
   "source": [
    "image = torch.zeros((2,3,128,128))\n",
    "d = model(image)"
   ]
  },
  {
   "cell_type": "code",
   "execution_count": 101,
   "metadata": {
    "ExecuteTime": {
     "end_time": "2022-10-18T07:07:33.044385Z",
     "start_time": "2022-10-18T07:07:33.038399Z"
    }
   },
   "outputs": [
    {
     "data": {
      "text/plain": [
       "torch.Size([2, 25, 4])"
      ]
     },
     "execution_count": 101,
     "metadata": {},
     "output_type": "execute_result"
    }
   ],
   "source": [
    "d['pred_boxes'].shape"
   ]
  },
  {
   "cell_type": "code",
   "execution_count": 102,
   "metadata": {
    "ExecuteTime": {
     "end_time": "2022-10-18T07:07:33.417252Z",
     "start_time": "2022-10-18T07:07:33.407276Z"
    }
   },
   "outputs": [
    {
     "data": {
      "text/plain": [
       "torch.Size([2, 25, 8])"
      ]
     },
     "execution_count": 102,
     "metadata": {},
     "output_type": "execute_result"
    }
   ],
   "source": [
    "d['pred_logits'].shape"
   ]
  },
  {
   "cell_type": "code",
   "execution_count": null,
   "metadata": {},
   "outputs": [],
   "source": []
  }
 ],
 "metadata": {
  "hide_input": false,
  "kernelspec": {
   "display_name": "DSIM",
   "language": "python",
   "name": "dsim"
  },
  "language_info": {
   "codemirror_mode": {
    "name": "ipython",
    "version": 3
   },
   "file_extension": ".py",
   "mimetype": "text/x-python",
   "name": "python",
   "nbconvert_exporter": "python",
   "pygments_lexer": "ipython3",
   "version": "3.10.4"
  },
  "latex_envs": {
   "LaTeX_envs_menu_present": true,
   "autoclose": false,
   "autocomplete": true,
   "bibliofile": "biblio.bib",
   "cite_by": "apalike",
   "current_citInitial": 1,
   "eqLabelWithNumbers": true,
   "eqNumInitial": 1,
   "hotkeys": {
    "equation": "Ctrl-E",
    "itemize": "Ctrl-I"
   },
   "labels_anchors": false,
   "latex_user_defs": false,
   "report_style_numbering": false,
   "user_envs_cfg": false
  },
  "toc": {
   "base_numbering": 1,
   "nav_menu": {},
   "number_sections": true,
   "sideBar": true,
   "skip_h1_title": false,
   "title_cell": "Table of Contents",
   "title_sidebar": "Contents",
   "toc_cell": false,
   "toc_position": {},
   "toc_section_display": true,
   "toc_window_display": false
  },
  "varInspector": {
   "cols": {
    "lenName": 16,
    "lenType": 16,
    "lenVar": 40
   },
   "kernels_config": {
    "python": {
     "delete_cmd_postfix": "",
     "delete_cmd_prefix": "del ",
     "library": "var_list.py",
     "varRefreshCmd": "print(var_dic_list())"
    },
    "r": {
     "delete_cmd_postfix": ") ",
     "delete_cmd_prefix": "rm(",
     "library": "var_list.r",
     "varRefreshCmd": "cat(var_dic_list()) "
    }
   },
   "types_to_exclude": [
    "module",
    "function",
    "builtin_function_or_method",
    "instance",
    "_Feature"
   ],
   "window_display": false
  }
 },
 "nbformat": 4,
 "nbformat_minor": 2
}
