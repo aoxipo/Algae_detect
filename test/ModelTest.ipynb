{
 "cells": [
  {
   "cell_type": "code",
   "execution_count": 1,
   "metadata": {
    "ExecuteTime": {
     "end_time": "2022-10-18T09:14:48.459608Z",
     "start_time": "2022-10-18T09:14:47.179388Z"
    }
   },
   "outputs": [],
   "source": [
    "import sys, os\n",
    "sys.path.append(\"..\")\n",
    "from dataloader import Dataload\n",
    "from utils.plot import plot_rect\n",
    "from torchsummary import summary\n",
    "import torch\n",
    "import cv2\n",
    "import matplotlib.pyplot as plt"
   ]
  },
  {
   "cell_type": "code",
   "execution_count": 2,
   "metadata": {
    "ExecuteTime": {
     "end_time": "2022-10-18T09:14:48.507485Z",
     "start_time": "2022-10-18T09:14:48.476432Z"
    },
    "code_folding": [
     3,
     11,
     26,
     35,
     131
    ]
   },
   "outputs": [],
   "source": [
    "import torch\n",
    "from torch import nn\n",
    "import torch.nn.functional as F\n",
    "def conv_block(in_channel, out_channel):\n",
    "    layer = nn.Sequential(\n",
    "        nn.BatchNorm2d(in_channel),\n",
    "        nn.ReLU(),\n",
    "        nn.Conv2d(in_channel, out_channel, kernel_size=3, padding=1, bias=False)\n",
    "    )\n",
    "    return layer\n",
    "\n",
    "class dense_block(nn.Module):\n",
    "    def __init__(self, in_channel, growth_rate, num_layers):\n",
    "        super(dense_block, self).__init__()\n",
    "        block = []\n",
    "        channel = in_channel\n",
    "        for i in range(num_layers):\n",
    "            block.append(conv_block(channel, growth_rate))\n",
    "            channel += growth_rate\n",
    "        self.net = nn.Sequential(*block)\n",
    "    def forward(self, x):\n",
    "        for layer in self.net:\n",
    "            out = layer(x)\n",
    "            x = torch.cat((out, x), dim=1)\n",
    "        return x\n",
    "\n",
    "def transition(in_channel, out_channel):\n",
    "    trans_layer = nn.Sequential(\n",
    "        nn.BatchNorm2d(in_channel),\n",
    "        nn.ReLU(),\n",
    "        nn.Conv2d(in_channel, out_channel, 1),\n",
    "        nn.AvgPool2d(2, 2)\n",
    "    )\n",
    "    return trans_layer\n",
    "\n",
    "class densenet(nn.Module):\n",
    "    def __init__(self, in_channel, num_classes, growth_rate=32, block_layers=[6, 12, 24, 16], need_return_dic = True):\n",
    "        super(densenet, self).__init__()\n",
    "        self.need_return_dict = need_return_dic\n",
    "        self.block1 = nn.Sequential(\n",
    "\n",
    "            nn.Conv2d(in_channel, 64, 7, 2, 3),\n",
    "            nn.BatchNorm2d(64),\n",
    "            nn.ReLU(True),\n",
    "            nn.MaxPool2d(3, 2, padding=1)\n",
    "            )\n",
    "        self.DB1 = self._make_dense_block(64, growth_rate,num=block_layers[0])\n",
    "        self.TL1 = self._make_transition_layer(256)\n",
    "        self.DB2 = self._make_dense_block(128, growth_rate, num=block_layers[1])\n",
    "        self.TL2 = self._make_transition_layer(512)\n",
    "        self.DB3 = self._make_dense_block(256, growth_rate, num=block_layers[2])\n",
    "        self.TL3 = self._make_transition_layer(1024)\n",
    "        self.DB4 = self._make_dense_block(512, growth_rate, num=block_layers[3])\n",
    "        self.global_average = nn.Sequential(\n",
    "            nn.BatchNorm2d(1024),\n",
    "            nn.ReLU(),\n",
    "            nn.AdaptiveAvgPool2d((1,1)),\n",
    "        )\n",
    "        self.classifier = nn.Linear(1024, num_classes)\n",
    "        #self.ea = nn.Linear(1024,2)\n",
    "    def build_results(self,x):\n",
    "        return {\n",
    "            \"pred_logits\":x,\n",
    "        }\n",
    "    def forward(self, x):\n",
    "        x = self.block1(x)\n",
    "        x = self.DB1(x)\n",
    "        x = self.TL1(x)\n",
    "        x = self.DB2(x)\n",
    "        x = self.TL2(x)\n",
    "        x = self.DB3(x)\n",
    "        x = self.TL3(x)\n",
    "        x = self.DB4(x)\n",
    "        x = self.global_average(x)\n",
    "        x = x.view(x.shape[0], -1)\n",
    "        #print(x.size())\n",
    "        #a = self.ea(x)\n",
    "        #print(a.size())\n",
    "        x = self.classifier(x)\n",
    "        #print(x.size())\n",
    "        return self.build_results(x) if(self.need_return_dict) else x\n",
    "\n",
    "    def _make_dense_block(self,channels, growth_rate, num):\n",
    "        block = []\n",
    "        block.append(dense_block(channels, growth_rate, num))\n",
    "        channels += num * growth_rate\n",
    "\n",
    "        return nn.Sequential(*block)\n",
    "    def _make_transition_layer(self,channels):\n",
    "        block = []\n",
    "        block.append(transition(channels, channels // 2))\n",
    "        return nn.Sequential(*block)\n",
    "\n",
    "class MLP(nn.Module):\n",
    "    \"\"\" Very simple multi-layer perceptron (also called FFN)\"\"\"\n",
    "    def __init__(self, input_dim, hidden_dim, output_dim, num_layers):\n",
    "        super().__init__()\n",
    "        self.num_layers = num_layers\n",
    "        h = [hidden_dim] * (num_layers - 1)\n",
    "        self.layers = nn.ModuleList(nn.Linear(n, k) for n, k in zip([input_dim] + h, h + [output_dim]))\n",
    "    def forward(self, x):\n",
    "        for i, layer in enumerate(self.layers):\n",
    "            x = F.relu(layer(x)) if i < self.num_layers - 1 else layer(x)\n",
    "        x = x.view(x.shape[0], -1, 4)\n",
    "        return x\n",
    "    \n",
    "class ShareMLP(MLP):\n",
    "    def __init__(self, input_dim, hidden_dim, output_dim, num_layers):\n",
    "        super(ShareMLP, self).__init__(input_dim, hidden_dim, output_dim, num_layers)\n",
    "        self.num_layers = num_layers\n",
    "        h = [hidden_dim] * (num_layers - 1)\n",
    "        self.layers = nn.ModuleList(nn.Linear(n, k) for n, k in zip([input_dim] + h, h + [output_dim]))\n",
    "    def forward(self, x):\n",
    "        for i, layer in enumerate(self.layers):\n",
    "            x_src = x\n",
    "            x = F.relu(layer(x)) if i < self.num_layers - 1 else layer(x)\n",
    "            if i < self.num_layers - 1:\n",
    "                x = x + x_src\n",
    "        x = x.view(x.shape[0], -1, 4)\n",
    "        return x\n",
    "    \n",
    "class DenseCoord(densenet):\n",
    "    def __init__(self, in_channel, num_classes, num_queries = 25,growth_rate = 32, block_layers=[6, 12, 24, 16], need_return_dic = True):\n",
    "\n",
    "        super(DenseCoord,self).__init__(in_channel, num_classes, growth_rate=growth_rate, block_layers=block_layers,\n",
    "                                        need_return_dic = need_return_dic)\n",
    "        self.num_classes = num_classes + 1\n",
    "        self.class_embed = nn.Linear(1024, self.num_classes * num_queries)\n",
    "        self.bbox_embed = MLP(1024, 1024, 4 * num_queries, 3)\n",
    "        #self.bbox_embed = ShareMLP(1024, 1024, 4 * num_queries, 3)\n",
    "        \n",
    "    def build_results(self,x,y):\n",
    "        return {\n",
    "            \"pred_logits\":x,\n",
    "            \"pred_boxes\":y,\n",
    "        }\n",
    "    def feature(self, x):\n",
    "        x = self.block1(x)\n",
    "        x = self.DB1(x)\n",
    "        x = self.TL1(x)\n",
    "        x = self.DB2(x)\n",
    "        x = self.TL2(x)\n",
    "        x = self.DB3(x)\n",
    "        x = self.TL3(x)\n",
    "        x = self.DB4(x)\n",
    "        x = self.global_average(x)\n",
    "        x = x.view(x.shape[0], -1)\n",
    "        return x\n",
    "    def forward(self, x):\n",
    "        feature_map = self.feature(x)\n",
    "        print(feature_map.shape)\n",
    "        class_feature = self.class_embed(feature_map)\n",
    "        print(class_feature.shape)\n",
    "        outputs_class = class_feature.view(class_feature.shape[0], -1, self.num_classes)    # one-hot\n",
    "        outputs_coord = self.bbox_embed(feature_map).sigmoid()\n",
    "        print(outputs_class.shape)\n",
    "        print(outputs_coord.shape)\n",
    "        return self.build_results(outputs_class, outputs_coord) if (self.need_return_dict) else [outputs_class,outputs_coord]"
   ]
  },
  {
   "cell_type": "code",
   "execution_count": 3,
   "metadata": {
    "ExecuteTime": {
     "end_time": "2022-10-18T09:14:48.603244Z",
     "start_time": "2022-10-18T09:14:48.526446Z"
    }
   },
   "outputs": [],
   "source": [
    "model = DenseCoord(3, 8)"
   ]
  },
  {
   "cell_type": "code",
   "execution_count": 4,
   "metadata": {
    "ExecuteTime": {
     "end_time": "2022-10-18T09:14:49.045345Z",
     "start_time": "2022-10-18T09:14:48.915302Z"
    }
   },
   "outputs": [
    {
     "name": "stdout",
     "output_type": "stream",
     "text": [
      "torch.Size([2, 1024])\n",
      "torch.Size([2, 225])\n",
      "torch.Size([2, 25, 9])\n",
      "torch.Size([2, 25, 4])\n"
     ]
    }
   ],
   "source": [
    "image = torch.zeros((2,3,128,128))\n",
    "d = model(image)"
   ]
  },
  {
   "cell_type": "code",
   "execution_count": 5,
   "metadata": {
    "ExecuteTime": {
     "end_time": "2022-10-18T09:14:52.214934Z",
     "start_time": "2022-10-18T09:14:52.196480Z"
    }
   },
   "outputs": [
    {
     "data": {
      "text/plain": [
       "torch.Size([2, 25, 4])"
      ]
     },
     "execution_count": 5,
     "metadata": {},
     "output_type": "execute_result"
    }
   ],
   "source": [
    "d['pred_boxes'].shape"
   ]
  },
  {
   "cell_type": "code",
   "execution_count": 6,
   "metadata": {
    "ExecuteTime": {
     "end_time": "2022-10-18T09:14:53.014733Z",
     "start_time": "2022-10-18T09:14:52.996740Z"
    }
   },
   "outputs": [
    {
     "data": {
      "text/plain": [
       "torch.Size([2, 25, 9])"
      ]
     },
     "execution_count": 6,
     "metadata": {},
     "output_type": "execute_result"
    }
   ],
   "source": [
    "d['pred_logits'].shape"
   ]
  },
  {
   "cell_type": "code",
   "execution_count": 31,
   "metadata": {
    "ExecuteTime": {
     "end_time": "2022-10-18T09:22:20.142287Z",
     "start_time": "2022-10-18T09:22:20.132312Z"
    }
   },
   "outputs": [],
   "source": [
    "costCross = torch.nn.CrossEntropyLoss()\n",
    "l2 = torch.nn.MSELoss()"
   ]
  },
  {
   "cell_type": "code",
   "execution_count": 16,
   "metadata": {
    "ExecuteTime": {
     "end_time": "2022-10-18T09:18:40.948989Z",
     "start_time": "2022-10-18T09:18:40.933603Z"
    }
   },
   "outputs": [],
   "source": [
    "label = torch.zeros((2,25,5))"
   ]
  },
  {
   "cell_type": "code",
   "execution_count": 17,
   "metadata": {
    "ExecuteTime": {
     "end_time": "2022-10-18T09:18:41.437335Z",
     "start_time": "2022-10-18T09:18:41.427363Z"
    }
   },
   "outputs": [
    {
     "data": {
      "text/plain": [
       "torch.Size([2, 25, 5])"
      ]
     },
     "execution_count": 17,
     "metadata": {},
     "output_type": "execute_result"
    }
   ],
   "source": [
    "label.shape"
   ]
  },
  {
   "cell_type": "code",
   "execution_count": 59,
   "metadata": {
    "ExecuteTime": {
     "end_time": "2022-10-18T09:37:45.070179Z",
     "start_time": "2022-10-18T09:37:45.043797Z"
    }
   },
   "outputs": [
    {
     "ename": "RuntimeError",
     "evalue": "expand(torch.FloatTensor{[2, 25, 5]}, size=[1]): the number of sizes provided (1) must be greater or equal to the number of dimensions in the tensor (3)",
     "output_type": "error",
     "traceback": [
      "\u001b[1;31m---------------------------------------------------------------------------\u001b[0m",
      "\u001b[1;31mRuntimeError\u001b[0m                              Traceback (most recent call last)",
      "Input \u001b[1;32mIn [59]\u001b[0m, in \u001b[0;36m<cell line: 1>\u001b[1;34m()\u001b[0m\n\u001b[1;32m----> 1\u001b[0m \u001b[43mlabel\u001b[49m\u001b[38;5;241;43m.\u001b[39;49m\u001b[43mexpand\u001b[49m\u001b[43m(\u001b[49m\u001b[38;5;241;43m1\u001b[39;49m\u001b[43m)\u001b[49m\n",
      "\u001b[1;31mRuntimeError\u001b[0m: expand(torch.FloatTensor{[2, 25, 5]}, size=[1]): the number of sizes provided (1) must be greater or equal to the number of dimensions in the tensor (3)"
     ]
    }
   ],
   "source": [
    "label.unsqueeze(0)"
   ]
  },
  {
   "cell_type": "code",
   "execution_count": 26,
   "metadata": {
    "ExecuteTime": {
     "end_time": "2022-10-18T09:21:11.272040Z",
     "start_time": "2022-10-18T09:21:11.267037Z"
    }
   },
   "outputs": [
    {
     "data": {
      "text/plain": [
       "tensor(0.)"
      ]
     },
     "execution_count": 26,
     "metadata": {},
     "output_type": "execute_result"
    }
   ],
   "source": [
    "label[:,:,0][0][1]"
   ]
  },
  {
   "cell_type": "code",
   "execution_count": 34,
   "metadata": {
    "ExecuteTime": {
     "end_time": "2022-10-18T09:24:55.500202Z",
     "start_time": "2022-10-18T09:24:55.492107Z"
    }
   },
   "outputs": [],
   "source": [
    "pred = d['pred_logits'].view(-1, 9)"
   ]
  },
  {
   "cell_type": "code",
   "execution_count": 35,
   "metadata": {
    "ExecuteTime": {
     "end_time": "2022-10-18T09:25:02.192399Z",
     "start_time": "2022-10-18T09:25:02.179924Z"
    }
   },
   "outputs": [
    {
     "data": {
      "text/plain": [
       "torch.Size([50, 9])"
      ]
     },
     "execution_count": 35,
     "metadata": {},
     "output_type": "execute_result"
    }
   ],
   "source": [
    "pred.shape"
   ]
  },
  {
   "cell_type": "code",
   "execution_count": 38,
   "metadata": {
    "ExecuteTime": {
     "end_time": "2022-10-18T09:25:39.478953Z",
     "start_time": "2022-10-18T09:25:39.459007Z"
    }
   },
   "outputs": [
    {
     "data": {
      "text/plain": [
       "tensor([0, 0, 0, 0, 0, 0, 0, 0, 0, 0, 0, 0, 0, 0, 0, 0, 0, 0, 0, 0, 0, 0, 0, 0,\n",
       "        0, 0, 0, 0, 0, 0, 0, 0, 0, 0, 0, 0, 0, 0, 0, 0, 0, 0, 0, 0, 0, 0, 0, 0,\n",
       "        0, 0])"
      ]
     },
     "execution_count": 38,
     "metadata": {},
     "output_type": "execute_result"
    }
   ],
   "source": [
    "label[:,:,0].long().view(-1)"
   ]
  },
  {
   "cell_type": "code",
   "execution_count": 42,
   "metadata": {
    "ExecuteTime": {
     "end_time": "2022-10-18T09:32:05.581818Z",
     "start_time": "2022-10-18T09:32:05.571808Z"
    }
   },
   "outputs": [],
   "source": [
    "cost = F.cross_entropy"
   ]
  },
  {
   "cell_type": "code",
   "execution_count": 63,
   "metadata": {
    "ExecuteTime": {
     "end_time": "2022-10-18T09:43:33.745723Z",
     "start_time": "2022-10-18T09:43:33.731305Z"
    }
   },
   "outputs": [],
   "source": [
    "pred_logits = d['pred_logits'].view(-1, 9)"
   ]
  },
  {
   "cell_type": "code",
   "execution_count": 74,
   "metadata": {
    "ExecuteTime": {
     "end_time": "2022-10-18T09:46:23.487519Z",
     "start_time": "2022-10-18T09:46:23.474210Z"
    }
   },
   "outputs": [],
   "source": [
    "label_f = label[:,:,0].long().view(-1)"
   ]
  },
  {
   "cell_type": "code",
   "execution_count": 72,
   "metadata": {
    "ExecuteTime": {
     "end_time": "2022-10-18T09:45:29.162287Z",
     "start_time": "2022-10-18T09:45:29.138857Z"
    },
    "scrolled": true
   },
   "outputs": [
    {
     "data": {
      "text/plain": [
       "tensor([[ 0.0211, -0.0119, -0.0084,  0.0269,  0.0133,  0.0093, -0.0074,  0.0292,\n",
       "         -0.0188],\n",
       "        [-0.0267, -0.0304,  0.0259, -0.0300, -0.0002, -0.0261, -0.0040,  0.0299,\n",
       "         -0.0047],\n",
       "        [-0.0281, -0.0204, -0.0201,  0.0310, -0.0312,  0.0168,  0.0153,  0.0204,\n",
       "          0.0152],\n",
       "        [-0.0307,  0.0236,  0.0286,  0.0060,  0.0294, -0.0050,  0.0090, -0.0022,\n",
       "         -0.0295],\n",
       "        [ 0.0082, -0.0017, -0.0092,  0.0226,  0.0134, -0.0031,  0.0156,  0.0299,\n",
       "         -0.0016],\n",
       "        [-0.0312,  0.0258,  0.0250, -0.0200,  0.0142, -0.0070,  0.0108, -0.0158,\n",
       "         -0.0245],\n",
       "        [ 0.0070, -0.0006, -0.0235, -0.0186,  0.0121, -0.0183, -0.0010,  0.0078,\n",
       "          0.0206],\n",
       "        [ 0.0244,  0.0292, -0.0146, -0.0012, -0.0086, -0.0274,  0.0115, -0.0035,\n",
       "          0.0022],\n",
       "        [ 0.0192, -0.0056,  0.0005, -0.0306, -0.0288,  0.0219,  0.0157,  0.0207,\n",
       "         -0.0092],\n",
       "        [-0.0206, -0.0295,  0.0285,  0.0132, -0.0042,  0.0127, -0.0186, -0.0150,\n",
       "         -0.0234],\n",
       "        [ 0.0048,  0.0057, -0.0083,  0.0129, -0.0035,  0.0241,  0.0245, -0.0052,\n",
       "         -0.0311],\n",
       "        [-0.0045,  0.0212,  0.0111, -0.0145, -0.0239,  0.0142, -0.0060, -0.0040,\n",
       "         -0.0208],\n",
       "        [-0.0097, -0.0069, -0.0098, -0.0017,  0.0245,  0.0209, -0.0117, -0.0056,\n",
       "         -0.0148],\n",
       "        [ 0.0119, -0.0094,  0.0158, -0.0287,  0.0127,  0.0121, -0.0140,  0.0180,\n",
       "          0.0237],\n",
       "        [-0.0270, -0.0171,  0.0275, -0.0256, -0.0064, -0.0268, -0.0146, -0.0017,\n",
       "         -0.0180],\n",
       "        [-0.0071, -0.0086, -0.0252,  0.0104,  0.0227, -0.0227,  0.0264, -0.0004,\n",
       "         -0.0301],\n",
       "        [-0.0309,  0.0045, -0.0225,  0.0180, -0.0087, -0.0253,  0.0290, -0.0085,\n",
       "          0.0220],\n",
       "        [ 0.0122,  0.0217, -0.0297, -0.0280, -0.0178,  0.0312,  0.0027,  0.0009,\n",
       "         -0.0008],\n",
       "        [ 0.0247,  0.0296,  0.0312, -0.0111,  0.0096,  0.0286, -0.0228, -0.0063,\n",
       "         -0.0018],\n",
       "        [ 0.0153, -0.0281, -0.0023, -0.0044,  0.0271, -0.0008, -0.0297, -0.0173,\n",
       "         -0.0231],\n",
       "        [ 0.0085, -0.0207,  0.0009, -0.0125, -0.0100, -0.0273, -0.0167, -0.0278,\n",
       "          0.0250],\n",
       "        [ 0.0276, -0.0155, -0.0179, -0.0184,  0.0078,  0.0207,  0.0248, -0.0305,\n",
       "          0.0125],\n",
       "        [ 0.0018, -0.0036,  0.0144,  0.0106,  0.0237,  0.0103,  0.0259,  0.0309,\n",
       "         -0.0081],\n",
       "        [-0.0031,  0.0121,  0.0203, -0.0245,  0.0235,  0.0209,  0.0273, -0.0020,\n",
       "          0.0075],\n",
       "        [ 0.0158,  0.0182, -0.0101, -0.0083, -0.0062, -0.0112, -0.0055,  0.0149,\n",
       "         -0.0157],\n",
       "        [ 0.0211, -0.0119, -0.0084,  0.0269,  0.0133,  0.0093, -0.0074,  0.0292,\n",
       "         -0.0188],\n",
       "        [-0.0267, -0.0304,  0.0259, -0.0300, -0.0002, -0.0261, -0.0040,  0.0299,\n",
       "         -0.0047],\n",
       "        [-0.0281, -0.0204, -0.0201,  0.0310, -0.0312,  0.0168,  0.0153,  0.0204,\n",
       "          0.0152],\n",
       "        [-0.0307,  0.0236,  0.0286,  0.0060,  0.0294, -0.0050,  0.0090, -0.0022,\n",
       "         -0.0295],\n",
       "        [ 0.0082, -0.0017, -0.0092,  0.0226,  0.0134, -0.0031,  0.0156,  0.0299,\n",
       "         -0.0016],\n",
       "        [-0.0312,  0.0258,  0.0250, -0.0200,  0.0142, -0.0070,  0.0108, -0.0158,\n",
       "         -0.0245],\n",
       "        [ 0.0070, -0.0006, -0.0235, -0.0186,  0.0121, -0.0183, -0.0010,  0.0078,\n",
       "          0.0206],\n",
       "        [ 0.0244,  0.0292, -0.0146, -0.0012, -0.0086, -0.0274,  0.0115, -0.0035,\n",
       "          0.0022],\n",
       "        [ 0.0192, -0.0056,  0.0005, -0.0306, -0.0288,  0.0219,  0.0157,  0.0207,\n",
       "         -0.0092],\n",
       "        [-0.0206, -0.0295,  0.0285,  0.0132, -0.0042,  0.0127, -0.0186, -0.0150,\n",
       "         -0.0234],\n",
       "        [ 0.0048,  0.0057, -0.0083,  0.0129, -0.0035,  0.0241,  0.0245, -0.0052,\n",
       "         -0.0311],\n",
       "        [-0.0045,  0.0212,  0.0111, -0.0145, -0.0239,  0.0142, -0.0060, -0.0040,\n",
       "         -0.0208],\n",
       "        [-0.0097, -0.0069, -0.0098, -0.0017,  0.0245,  0.0209, -0.0117, -0.0056,\n",
       "         -0.0148],\n",
       "        [ 0.0119, -0.0094,  0.0158, -0.0287,  0.0127,  0.0121, -0.0140,  0.0180,\n",
       "          0.0237],\n",
       "        [-0.0270, -0.0171,  0.0275, -0.0256, -0.0064, -0.0268, -0.0146, -0.0017,\n",
       "         -0.0180],\n",
       "        [-0.0071, -0.0086, -0.0252,  0.0104,  0.0227, -0.0227,  0.0264, -0.0004,\n",
       "         -0.0301],\n",
       "        [-0.0309,  0.0045, -0.0225,  0.0180, -0.0087, -0.0253,  0.0290, -0.0085,\n",
       "          0.0220],\n",
       "        [ 0.0122,  0.0217, -0.0297, -0.0280, -0.0178,  0.0312,  0.0027,  0.0009,\n",
       "         -0.0008],\n",
       "        [ 0.0247,  0.0296,  0.0312, -0.0111,  0.0096,  0.0286, -0.0228, -0.0063,\n",
       "         -0.0018],\n",
       "        [ 0.0153, -0.0281, -0.0023, -0.0044,  0.0271, -0.0008, -0.0297, -0.0173,\n",
       "         -0.0231],\n",
       "        [ 0.0085, -0.0207,  0.0009, -0.0125, -0.0100, -0.0273, -0.0167, -0.0278,\n",
       "          0.0250],\n",
       "        [ 0.0276, -0.0155, -0.0179, -0.0184,  0.0078,  0.0207,  0.0248, -0.0305,\n",
       "          0.0125],\n",
       "        [ 0.0018, -0.0036,  0.0144,  0.0106,  0.0237,  0.0103,  0.0259,  0.0309,\n",
       "         -0.0081],\n",
       "        [-0.0031,  0.0121,  0.0203, -0.0245,  0.0235,  0.0209,  0.0273, -0.0020,\n",
       "          0.0075],\n",
       "        [ 0.0158,  0.0182, -0.0101, -0.0083, -0.0062, -0.0112, -0.0055,  0.0149,\n",
       "         -0.0157]], grad_fn=<ViewBackward0>)"
      ]
     },
     "execution_count": 72,
     "metadata": {},
     "output_type": "execute_result"
    }
   ],
   "source": [
    "pred_logits"
   ]
  },
  {
   "cell_type": "code",
   "execution_count": 73,
   "metadata": {
    "ExecuteTime": {
     "end_time": "2022-10-18T09:46:08.592025Z",
     "start_time": "2022-10-18T09:46:08.578783Z"
    }
   },
   "outputs": [],
   "source": [
    "pred = torch.argmax(pred_logits,1)"
   ]
  },
  {
   "cell_type": "code",
   "execution_count": 77,
   "metadata": {
    "ExecuteTime": {
     "end_time": "2022-10-18T09:47:27.936901Z",
     "start_time": "2022-10-18T09:47:27.924432Z"
    }
   },
   "outputs": [
    {
     "data": {
      "text/plain": [
       "0.04"
      ]
     },
     "execution_count": 77,
     "metadata": {},
     "output_type": "execute_result"
    }
   ],
   "source": [
    "np.sum([pred[i] == label_f[i] for i in range(len(pred))])/len(pred)"
   ]
  },
  {
   "cell_type": "code",
   "execution_count": 78,
   "metadata": {
    "ExecuteTime": {
     "end_time": "2022-10-18T09:50:09.535037Z",
     "start_time": "2022-10-18T09:50:09.491176Z"
    }
   },
   "outputs": [
    {
     "data": {
      "text/plain": [
       "0.04"
      ]
     },
     "execution_count": 78,
     "metadata": {},
     "output_type": "execute_result"
    }
   ],
   "source": [
    "np.mean([pred[i] == label_f[i] for i in range(len(pred))])"
   ]
  },
  {
   "cell_type": "code",
   "execution_count": 39,
   "metadata": {
    "ExecuteTime": {
     "end_time": "2022-10-18T09:25:43.541050Z",
     "start_time": "2022-10-18T09:25:43.524069Z"
    }
   },
   "outputs": [
    {
     "data": {
      "text/plain": [
       "tensor(2.1980, grad_fn=<NllLossBackward0>)"
      ]
     },
     "execution_count": 39,
     "metadata": {},
     "output_type": "execute_result"
    }
   ],
   "source": [
    "costCross(d['pred_logits'].view(-1, 9), label[:,:,0].long().view(-1))"
   ]
  },
  {
   "cell_type": "code",
   "execution_count": 32,
   "metadata": {
    "ExecuteTime": {
     "end_time": "2022-10-18T09:22:21.430182Z",
     "start_time": "2022-10-18T09:22:21.412291Z"
    }
   },
   "outputs": [
    {
     "data": {
      "text/plain": [
       "tensor(2.2168, grad_fn=<NllLossBackward0>)"
      ]
     },
     "execution_count": 32,
     "metadata": {},
     "output_type": "execute_result"
    }
   ],
   "source": [
    "costCross(d['pred_logits'][0][1], label[:,:,0][0][1].long())"
   ]
  },
  {
   "cell_type": "code",
   "execution_count": 20,
   "metadata": {
    "ExecuteTime": {
     "end_time": "2022-10-18T09:19:15.288479Z",
     "start_time": "2022-10-18T09:19:15.267914Z"
    }
   },
   "outputs": [
    {
     "data": {
      "text/plain": [
       "tensor(0.2499, grad_fn=<MseLossBackward0>)"
      ]
     },
     "execution_count": 20,
     "metadata": {},
     "output_type": "execute_result"
    }
   ],
   "source": [
    "l2(d['pred_boxes'], label[:,:,1:])"
   ]
  },
  {
   "cell_type": "code",
   "execution_count": null,
   "metadata": {},
   "outputs": [],
   "source": []
  }
 ],
 "metadata": {
  "hide_input": false,
  "kernelspec": {
   "display_name": "DSIM",
   "language": "python",
   "name": "dsim"
  },
  "language_info": {
   "codemirror_mode": {
    "name": "ipython",
    "version": 3
   },
   "file_extension": ".py",
   "mimetype": "text/x-python",
   "name": "python",
   "nbconvert_exporter": "python",
   "pygments_lexer": "ipython3",
   "version": "3.10.4"
  },
  "latex_envs": {
   "LaTeX_envs_menu_present": true,
   "autoclose": false,
   "autocomplete": true,
   "bibliofile": "biblio.bib",
   "cite_by": "apalike",
   "current_citInitial": 1,
   "eqLabelWithNumbers": true,
   "eqNumInitial": 1,
   "hotkeys": {
    "equation": "Ctrl-E",
    "itemize": "Ctrl-I"
   },
   "labels_anchors": false,
   "latex_user_defs": false,
   "report_style_numbering": false,
   "user_envs_cfg": false
  },
  "toc": {
   "base_numbering": 1,
   "nav_menu": {},
   "number_sections": true,
   "sideBar": true,
   "skip_h1_title": false,
   "title_cell": "Table of Contents",
   "title_sidebar": "Contents",
   "toc_cell": false,
   "toc_position": {},
   "toc_section_display": true,
   "toc_window_display": false
  },
  "varInspector": {
   "cols": {
    "lenName": 16,
    "lenType": 16,
    "lenVar": 40
   },
   "kernels_config": {
    "python": {
     "delete_cmd_postfix": "",
     "delete_cmd_prefix": "del ",
     "library": "var_list.py",
     "varRefreshCmd": "print(var_dic_list())"
    },
    "r": {
     "delete_cmd_postfix": ") ",
     "delete_cmd_prefix": "rm(",
     "library": "var_list.r",
     "varRefreshCmd": "cat(var_dic_list()) "
    }
   },
   "types_to_exclude": [
    "module",
    "function",
    "builtin_function_or_method",
    "instance",
    "_Feature"
   ],
   "window_display": false
  }
 },
 "nbformat": 4,
 "nbformat_minor": 2
}
