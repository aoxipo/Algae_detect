{
 "cells": [
  {
   "cell_type": "code",
   "execution_count": 1,
   "metadata": {
    "ExecuteTime": {
     "end_time": "2022-10-18T09:15:28.843649Z",
     "start_time": "2022-10-18T09:15:27.589586Z"
    }
   },
   "outputs": [],
   "source": [
    "import random\n",
    "import numpy as np\n",
    "import os\n",
    "import torch\n",
    "from torch.utils.data import Dataset, DataLoader, TensorDataset\n",
    "from torch.autograd import Variable\n",
    "#from sklearn.model_selection import train_test_split\n",
    "import torchvision\n",
    "import torchvision.transforms as transforms\n",
    "\n",
    "from PIL import Image\n",
    "import cv2\n",
    "import matplotlib.pyplot as plt\n",
    "import glob\n",
    "import matplotlib.pyplot as plt"
   ]
  },
  {
   "cell_type": "code",
   "execution_count": 2,
   "metadata": {
    "ExecuteTime": {
     "end_time": "2022-10-18T09:15:28.890730Z",
     "start_time": "2022-10-18T09:15:28.876284Z"
    }
   },
   "outputs": [],
   "source": [
    "import sys, os\n",
    "sys.path.append(\"..\")\n",
    "from dataloader import Dataload\n",
    "from utils.plot import plot_rect"
   ]
  },
  {
   "cell_type": "code",
   "execution_count": 3,
   "metadata": {
    "ExecuteTime": {
     "end_time": "2022-10-18T09:15:28.938788Z",
     "start_time": "2022-10-18T09:15:28.924815Z"
    }
   },
   "outputs": [
    {
     "name": "stdout",
     "output_type": "stream",
     "text": [
      "total: 537\n"
     ]
    }
   ],
   "source": [
    "batch_size = 1\n",
    "train_dataloader = Dataload(r\"H:\\DATASET\\CLASSDATA\\training_set\\train\",same_matrix=True)\n",
    "train_loader= DataLoader(\n",
    "    dataset = train_dataloader,\n",
    "    batch_size = batch_size,\n",
    "    shuffle = True,\n",
    "    drop_last = True\n",
    ")\n"
   ]
  },
  {
   "cell_type": "code",
   "execution_count": 9,
   "metadata": {
    "ExecuteTime": {
     "end_time": "2022-10-18T08:41:20.159228Z",
     "start_time": "2022-10-18T08:41:20.152250Z"
    }
   },
   "outputs": [
    {
     "name": "stdout",
     "output_type": "stream",
     "text": [
      "total: 430\n"
     ]
    }
   ],
   "source": [
    "train_dataloader = Dataload(r\"H:\\DATASET\\CLASSDATA\\test_images\",same_matrix=True, data_type='test')\n",
    "train_loader= DataLoader(\n",
    "    dataset = train_dataloader,\n",
    "    batch_size = batch_size,\n",
    "    shuffle = True,\n",
    "    drop_last = True\n",
    ")\n"
   ]
  },
  {
   "cell_type": "code",
   "execution_count": 4,
   "metadata": {
    "ExecuteTime": {
     "end_time": "2022-10-18T09:15:31.273177Z",
     "start_time": "2022-10-18T09:15:31.220385Z"
    }
   },
   "outputs": [],
   "source": [
    "image, d = train_dataloader[429]"
   ]
  },
  {
   "cell_type": "code",
   "execution_count": 5,
   "metadata": {
    "ExecuteTime": {
     "end_time": "2022-10-18T09:15:37.141104Z",
     "start_time": "2022-10-18T09:15:37.125147Z"
    }
   },
   "outputs": [
    {
     "data": {
      "text/plain": [
       "torch.Size([3, 128, 128])"
      ]
     },
     "execution_count": 5,
     "metadata": {},
     "output_type": "execute_result"
    }
   ],
   "source": [
    "image.shape"
   ]
  },
  {
   "cell_type": "code",
   "execution_count": 8,
   "metadata": {
    "ExecuteTime": {
     "end_time": "2022-10-18T09:17:03.617446Z",
     "start_time": "2022-10-18T09:17:03.589702Z"
    }
   },
   "outputs": [
    {
     "data": {
      "text/plain": [
       "tensor([[0.6405, 0.7714, 0.0514, 0.0371],\n",
       "        [0.0000, 0.0000, 0.0000, 0.0000],\n",
       "        [0.0000, 0.0000, 0.0000, 0.0000],\n",
       "        [0.0000, 0.0000, 0.0000, 0.0000],\n",
       "        [0.0000, 0.0000, 0.0000, 0.0000],\n",
       "        [0.0000, 0.0000, 0.0000, 0.0000],\n",
       "        [0.0000, 0.0000, 0.0000, 0.0000],\n",
       "        [0.0000, 0.0000, 0.0000, 0.0000],\n",
       "        [0.0000, 0.0000, 0.0000, 0.0000],\n",
       "        [0.0000, 0.0000, 0.0000, 0.0000],\n",
       "        [0.0000, 0.0000, 0.0000, 0.0000],\n",
       "        [0.0000, 0.0000, 0.0000, 0.0000],\n",
       "        [0.0000, 0.0000, 0.0000, 0.0000],\n",
       "        [0.0000, 0.0000, 0.0000, 0.0000],\n",
       "        [0.0000, 0.0000, 0.0000, 0.0000],\n",
       "        [0.0000, 0.0000, 0.0000, 0.0000],\n",
       "        [0.0000, 0.0000, 0.0000, 0.0000],\n",
       "        [0.0000, 0.0000, 0.0000, 0.0000],\n",
       "        [0.0000, 0.0000, 0.0000, 0.0000],\n",
       "        [0.0000, 0.0000, 0.0000, 0.0000],\n",
       "        [0.0000, 0.0000, 0.0000, 0.0000],\n",
       "        [0.0000, 0.0000, 0.0000, 0.0000],\n",
       "        [0.0000, 0.0000, 0.0000, 0.0000],\n",
       "        [0.0000, 0.0000, 0.0000, 0.0000],\n",
       "        [0.0000, 0.0000, 0.0000, 0.0000]], dtype=torch.float64)"
      ]
     },
     "execution_count": 8,
     "metadata": {},
     "output_type": "execute_result"
    }
   ],
   "source": [
    "d[:,1:]"
   ]
  },
  {
   "cell_type": "code",
   "execution_count": 7,
   "metadata": {
    "ExecuteTime": {
     "end_time": "2022-10-18T09:15:45.679027Z",
     "start_time": "2022-10-18T09:15:45.668986Z"
    }
   },
   "outputs": [
    {
     "data": {
      "text/plain": [
       "tensor([[3.0000, 0.6405, 0.7714, 0.0514, 0.0371],\n",
       "        [8.0000, 0.0000, 0.0000, 0.0000, 0.0000],\n",
       "        [8.0000, 0.0000, 0.0000, 0.0000, 0.0000],\n",
       "        [8.0000, 0.0000, 0.0000, 0.0000, 0.0000],\n",
       "        [8.0000, 0.0000, 0.0000, 0.0000, 0.0000],\n",
       "        [8.0000, 0.0000, 0.0000, 0.0000, 0.0000],\n",
       "        [8.0000, 0.0000, 0.0000, 0.0000, 0.0000],\n",
       "        [8.0000, 0.0000, 0.0000, 0.0000, 0.0000],\n",
       "        [8.0000, 0.0000, 0.0000, 0.0000, 0.0000],\n",
       "        [8.0000, 0.0000, 0.0000, 0.0000, 0.0000],\n",
       "        [8.0000, 0.0000, 0.0000, 0.0000, 0.0000],\n",
       "        [8.0000, 0.0000, 0.0000, 0.0000, 0.0000],\n",
       "        [8.0000, 0.0000, 0.0000, 0.0000, 0.0000],\n",
       "        [8.0000, 0.0000, 0.0000, 0.0000, 0.0000],\n",
       "        [8.0000, 0.0000, 0.0000, 0.0000, 0.0000],\n",
       "        [8.0000, 0.0000, 0.0000, 0.0000, 0.0000],\n",
       "        [8.0000, 0.0000, 0.0000, 0.0000, 0.0000],\n",
       "        [8.0000, 0.0000, 0.0000, 0.0000, 0.0000],\n",
       "        [8.0000, 0.0000, 0.0000, 0.0000, 0.0000],\n",
       "        [8.0000, 0.0000, 0.0000, 0.0000, 0.0000],\n",
       "        [8.0000, 0.0000, 0.0000, 0.0000, 0.0000],\n",
       "        [8.0000, 0.0000, 0.0000, 0.0000, 0.0000],\n",
       "        [8.0000, 0.0000, 0.0000, 0.0000, 0.0000],\n",
       "        [8.0000, 0.0000, 0.0000, 0.0000, 0.0000],\n",
       "        [8.0000, 0.0000, 0.0000, 0.0000, 0.0000]], dtype=torch.float64)"
      ]
     },
     "execution_count": 7,
     "metadata": {},
     "output_type": "execute_result"
    }
   ],
   "source": [
    "d"
   ]
  },
  {
   "cell_type": "code",
   "execution_count": 6,
   "metadata": {
    "ExecuteTime": {
     "end_time": "2022-10-18T08:35:21.789125Z",
     "start_time": "2022-10-18T08:35:21.704708Z"
    }
   },
   "outputs": [
    {
     "name": "stdout",
     "output_type": "stream",
     "text": [
      "发现异常\n",
      "RuntimeError\n",
      "image can 't read:H:\\DATASET\\CLASSDATA\\test_images\\images\\0.png\n"
     ]
    }
   ],
   "source": [
    "train_dataloader[0]"
   ]
  },
  {
   "cell_type": "code",
   "execution_count": 21,
   "metadata": {
    "ExecuteTime": {
     "end_time": "2022-10-18T08:22:59.255024Z",
     "start_time": "2022-10-18T08:22:31.130451Z"
    },
    "scrolled": true
   },
   "outputs": [
    {
     "name": "stdout",
     "output_type": "stream",
     "text": [
      "1\n",
      "2\n",
      "3\n",
      "4\n",
      "5\n",
      "6\n",
      "7\n",
      "8\n",
      "9\n",
      "10\n",
      "11\n",
      "12\n",
      "13\n",
      "14\n",
      "15\n",
      "16\n",
      "17\n",
      "18\n",
      "19\n",
      "20\n",
      "21\n",
      "22\n",
      "23\n",
      "24\n",
      "25\n",
      "26\n",
      "27\n",
      "28\n",
      "29\n",
      "30\n",
      "31\n",
      "32\n",
      "33\n",
      "34\n",
      "35\n",
      "36\n",
      "37\n",
      "38\n",
      "39\n",
      "40\n",
      "41\n",
      "42\n",
      "43\n",
      "44\n",
      "45\n",
      "46\n",
      "47\n",
      "48\n",
      "49\n",
      "50\n",
      "51\n",
      "52\n",
      "53\n",
      "54\n",
      "55\n",
      "56\n",
      "57\n",
      "58\n",
      "59\n",
      "60\n",
      "61\n",
      "62\n",
      "63\n",
      "64\n",
      "65\n",
      "66\n",
      "67\n",
      "68\n",
      "69\n",
      "70\n",
      "71\n",
      "72\n",
      "73\n",
      "74\n",
      "75\n",
      "76\n",
      "77\n",
      "78\n",
      "79\n",
      "80\n",
      "81\n",
      "82\n",
      "83\n",
      "84\n",
      "85\n",
      "86\n",
      "87\n",
      "88\n",
      "89\n",
      "90\n",
      "91\n",
      "92\n",
      "93\n",
      "94\n",
      "95\n",
      "96\n",
      "97\n",
      "98\n",
      "99\n",
      "100\n",
      "101\n",
      "102\n",
      "103\n",
      "104\n",
      "105\n",
      "106\n",
      "107\n",
      "108\n",
      "109\n",
      "110\n",
      "111\n",
      "112\n",
      "113\n",
      "114\n",
      "115\n",
      "116\n",
      "117\n",
      "118\n",
      "119\n",
      "120\n",
      "121\n",
      "122\n",
      "123\n",
      "124\n",
      "125\n",
      "126\n",
      "127\n",
      "128\n",
      "129\n",
      "130\n",
      "131\n",
      "132\n",
      "133\n",
      "134\n",
      "135\n",
      "136\n",
      "137\n",
      "138\n",
      "139\n",
      "140\n",
      "141\n",
      "142\n",
      "143\n",
      "144\n",
      "145\n",
      "146\n",
      "147\n",
      "148\n",
      "149\n",
      "150\n",
      "151\n",
      "152\n",
      "153\n",
      "154\n",
      "155\n",
      "156\n",
      "157\n",
      "158\n",
      "159\n",
      "160\n",
      "161\n",
      "162\n",
      "163\n",
      "164\n",
      "165\n",
      "166\n",
      "167\n",
      "168\n",
      "169\n",
      "170\n",
      "171\n",
      "172\n",
      "173\n",
      "174\n",
      "175\n",
      "176\n",
      "177\n",
      "178\n",
      "179\n",
      "180\n",
      "181\n",
      "182\n",
      "183\n",
      "184\n",
      "185\n",
      "186\n",
      "187\n",
      "188\n",
      "189\n",
      "190\n",
      "191\n",
      "192\n",
      "193\n",
      "194\n",
      "195\n",
      "196\n",
      "197\n",
      "198\n",
      "199\n",
      "200\n",
      "201\n",
      "202\n",
      "203\n",
      "204\n",
      "205\n",
      "206\n",
      "207\n",
      "208\n",
      "209\n",
      "210\n",
      "211\n",
      "212\n",
      "213\n",
      "214\n",
      "215\n",
      "216\n",
      "217\n",
      "218\n",
      "219\n",
      "220\n",
      "221\n",
      "222\n",
      "223\n",
      "224\n",
      "225\n",
      "226\n",
      "227\n",
      "228\n",
      "229\n",
      "230\n",
      "231\n",
      "232\n",
      "233\n",
      "234\n",
      "235\n",
      "236\n",
      "237\n",
      "238\n",
      "239\n",
      "240\n",
      "241\n",
      "242\n",
      "243\n",
      "244\n",
      "245\n",
      "246\n",
      "247\n",
      "248\n",
      "249\n",
      "250\n",
      "251\n",
      "252\n",
      "253\n",
      "254\n",
      "255\n",
      "256\n",
      "257\n",
      "258\n",
      "259\n",
      "260\n",
      "261\n",
      "262\n",
      "263\n",
      "264\n",
      "265\n",
      "266\n",
      "267\n",
      "268\n",
      "269\n",
      "270\n",
      "271\n",
      "272\n",
      "273\n",
      "274\n",
      "275\n",
      "276\n",
      "277\n",
      "278\n",
      "279\n",
      "280\n",
      "281\n",
      "282\n",
      "283\n",
      "284\n",
      "285\n",
      "286\n",
      "287\n",
      "288\n",
      "289\n",
      "290\n",
      "291\n",
      "292\n",
      "293\n",
      "294\n",
      "295\n",
      "296\n",
      "297\n",
      "298\n",
      "299\n",
      "300\n",
      "301\n",
      "302\n",
      "303\n",
      "304\n",
      "305\n",
      "306\n",
      "307\n",
      "308\n",
      "309\n",
      "310\n",
      "311\n",
      "312\n",
      "313\n",
      "314\n",
      "315\n",
      "316\n",
      "317\n",
      "318\n",
      "319\n",
      "320\n",
      "321\n",
      "322\n",
      "323\n",
      "324\n",
      "325\n",
      "326\n",
      "327\n",
      "328\n",
      "329\n",
      "330\n",
      "331\n",
      "332\n",
      "333\n",
      "334\n",
      "335\n",
      "336\n",
      "337\n",
      "338\n",
      "339\n",
      "340\n",
      "341\n",
      "342\n",
      "343\n",
      "344\n",
      "345\n",
      "346\n",
      "347\n",
      "348\n",
      "349\n",
      "350\n",
      "351\n",
      "352\n",
      "353\n",
      "354\n",
      "355\n",
      "356\n",
      "357\n",
      "358\n",
      "359\n",
      "360\n",
      "361\n",
      "362\n",
      "363\n",
      "364\n",
      "365\n",
      "366\n",
      "367\n",
      "368\n",
      "369\n",
      "370\n",
      "371\n",
      "372\n",
      "373\n",
      "374\n",
      "375\n",
      "376\n",
      "377\n",
      "378\n",
      "379\n",
      "380\n",
      "381\n",
      "382\n",
      "383\n",
      "384\n",
      "385\n",
      "386\n",
      "387\n",
      "388\n",
      "389\n",
      "390\n",
      "391\n",
      "392\n",
      "393\n",
      "394\n",
      "395\n",
      "396\n",
      "397\n",
      "398\n",
      "399\n",
      "400\n",
      "401\n",
      "402\n",
      "403\n",
      "404\n",
      "405\n",
      "406\n",
      "407\n",
      "408\n",
      "409\n",
      "410\n",
      "411\n",
      "412\n",
      "413\n",
      "414\n",
      "415\n",
      "416\n",
      "417\n",
      "418\n",
      "419\n",
      "420\n",
      "421\n",
      "422\n",
      "423\n",
      "424\n",
      "425\n",
      "426\n",
      "427\n",
      "428\n",
      "429\n",
      "430\n",
      "431\n",
      "432\n",
      "433\n",
      "434\n",
      "435\n",
      "436\n",
      "437\n",
      "438\n",
      "439\n",
      "440\n",
      "441\n",
      "442\n",
      "443\n",
      "444\n",
      "445\n",
      "446\n",
      "447\n",
      "448\n",
      "449\n",
      "450\n",
      "451\n",
      "452\n",
      "453\n",
      "454\n",
      "455\n",
      "456\n",
      "457\n",
      "458\n",
      "459\n",
      "460\n",
      "461\n",
      "462\n",
      "463\n",
      "464\n",
      "465\n",
      "466\n",
      "467\n",
      "468\n",
      "469\n",
      "470\n",
      "471\n",
      "472\n",
      "473\n",
      "474\n",
      "475\n",
      "476\n",
      "477\n",
      "478\n",
      "479\n",
      "480\n",
      "481\n",
      "482\n",
      "483\n",
      "484\n",
      "485\n",
      "486\n",
      "487\n",
      "488\n",
      "489\n",
      "490\n",
      "491\n",
      "492\n",
      "493\n",
      "494\n",
      "495\n",
      "496\n",
      "497\n",
      "498\n",
      "499\n",
      "500\n",
      "501\n",
      "502\n",
      "503\n",
      "504\n",
      "505\n",
      "506\n",
      "507\n",
      "508\n",
      "509\n",
      "510\n",
      "511\n",
      "512\n",
      "513\n",
      "514\n",
      "515\n",
      "516\n",
      "517\n",
      "518\n",
      "519\n",
      "520\n",
      "521\n",
      "522\n",
      "523\n",
      "524\n",
      "525\n",
      "526\n",
      "527\n",
      "528\n",
      "529\n",
      "530\n",
      "531\n",
      "532\n",
      "533\n",
      "534\n",
      "535\n",
      "536\n",
      "537\n"
     ]
    }
   ],
   "source": [
    "count = 0\n",
    "for i in train_loader:\n",
    "    count += 1\n",
    "    a,b = i\n",
    "    print(count)"
   ]
  },
  {
   "cell_type": "code",
   "execution_count": 22,
   "metadata": {
    "ExecuteTime": {
     "end_time": "2022-10-18T08:23:06.014386Z",
     "start_time": "2022-10-18T08:23:05.992436Z"
    }
   },
   "outputs": [
    {
     "data": {
      "text/plain": [
       "(tensor([[[[0.5666, 0.5825, 0.5825,  ..., 0.5666, 0.5666, 0.5825],\n",
       "           [0.5825, 0.5984, 0.5984,  ..., 0.5666, 0.5666, 0.5666],\n",
       "           [0.5825, 0.5984, 0.5984,  ..., 0.5666, 0.5666, 0.5666],\n",
       "           ...,\n",
       "           [0.5984, 0.5984, 0.5984,  ..., 0.5666, 0.5666, 0.5825],\n",
       "           [0.5984, 0.5984, 0.5825,  ..., 0.5825, 0.5825, 0.5825],\n",
       "           [0.5984, 0.5984, 0.5825,  ..., 0.5666, 0.5666, 0.5825]],\n",
       " \n",
       "          [[0.6289, 0.6289, 0.6289,  ..., 0.6289, 0.6289, 0.6289],\n",
       "           [0.6289, 0.6450, 0.6450,  ..., 0.6289, 0.6289, 0.6289],\n",
       "           [0.6450, 0.6450, 0.6450,  ..., 0.6289, 0.6289, 0.6289],\n",
       "           ...,\n",
       "           [0.6611, 0.6450, 0.6450,  ..., 0.6450, 0.6450, 0.6450],\n",
       "           [0.6450, 0.6450, 0.6450,  ..., 0.6289, 0.6450, 0.6450],\n",
       "           [0.6450, 0.6450, 0.6450,  ..., 0.6289, 0.6450, 0.6450]],\n",
       " \n",
       "          [[0.7066, 0.7066, 0.7066,  ..., 0.7216, 0.7216, 0.7216],\n",
       "           [0.7066, 0.7216, 0.7216,  ..., 0.7216, 0.7216, 0.7216],\n",
       "           [0.7216, 0.7216, 0.7216,  ..., 0.7216, 0.7216, 0.7216],\n",
       "           ...,\n",
       "           [0.7366, 0.7366, 0.7366,  ..., 0.7366, 0.7366, 0.7366],\n",
       "           [0.7366, 0.7366, 0.7366,  ..., 0.7366, 0.7366, 0.7366],\n",
       "           [0.7366, 0.7366, 0.7216,  ..., 0.7216, 0.7366, 0.7216]]]]),\n",
       " tensor([[[3.0000, 0.1562, 0.4583, 0.0249, 0.0563],\n",
       "          [3.0000, 0.1000, 0.2603, 0.0242, 0.0552],\n",
       "          [3.0000, 0.2045, 0.7507, 0.0219, 0.0552],\n",
       "          [8.0000, 0.0000, 0.0000, 0.0000, 0.0000],\n",
       "          [8.0000, 0.0000, 0.0000, 0.0000, 0.0000],\n",
       "          [8.0000, 0.0000, 0.0000, 0.0000, 0.0000],\n",
       "          [8.0000, 0.0000, 0.0000, 0.0000, 0.0000],\n",
       "          [8.0000, 0.0000, 0.0000, 0.0000, 0.0000],\n",
       "          [8.0000, 0.0000, 0.0000, 0.0000, 0.0000],\n",
       "          [8.0000, 0.0000, 0.0000, 0.0000, 0.0000],\n",
       "          [8.0000, 0.0000, 0.0000, 0.0000, 0.0000],\n",
       "          [8.0000, 0.0000, 0.0000, 0.0000, 0.0000],\n",
       "          [8.0000, 0.0000, 0.0000, 0.0000, 0.0000],\n",
       "          [8.0000, 0.0000, 0.0000, 0.0000, 0.0000],\n",
       "          [8.0000, 0.0000, 0.0000, 0.0000, 0.0000],\n",
       "          [8.0000, 0.0000, 0.0000, 0.0000, 0.0000],\n",
       "          [8.0000, 0.0000, 0.0000, 0.0000, 0.0000],\n",
       "          [8.0000, 0.0000, 0.0000, 0.0000, 0.0000],\n",
       "          [8.0000, 0.0000, 0.0000, 0.0000, 0.0000],\n",
       "          [8.0000, 0.0000, 0.0000, 0.0000, 0.0000],\n",
       "          [8.0000, 0.0000, 0.0000, 0.0000, 0.0000],\n",
       "          [8.0000, 0.0000, 0.0000, 0.0000, 0.0000],\n",
       "          [8.0000, 0.0000, 0.0000, 0.0000, 0.0000],\n",
       "          [8.0000, 0.0000, 0.0000, 0.0000, 0.0000],\n",
       "          [8.0000, 0.0000, 0.0000, 0.0000, 0.0000]]], dtype=torch.float64))"
      ]
     },
     "execution_count": 22,
     "metadata": {},
     "output_type": "execute_result"
    }
   ],
   "source": [
    "a,b"
   ]
  },
  {
   "cell_type": "code",
   "execution_count": null,
   "metadata": {
    "ExecuteTime": {
     "end_time": "2022-10-18T05:21:22.480461Z",
     "start_time": "2022-10-18T05:21:04.726768Z"
    }
   },
   "outputs": [],
   "source": [
    "x = [float(i) for i in range(8)]\n",
    "y= [False for i in range(8)]\n",
    "pos = []\n",
    "i =-1\n",
    "for data in train_loader:\n",
    "    i +=1\n",
    "    img,label = data\n",
    "    # print(label[0][0])\n",
    "    if(label[0][0] in x and y[int(label[0][0])] == False ):\n",
    "        pos.append(i)\n",
    "        y[int(label[0][0])] =True\n",
    "        print(label[0][0])\n",
    "        # plt.imshow(num_img)"
   ]
  },
  {
   "cell_type": "code",
   "execution_count": null,
   "metadata": {
    "ExecuteTime": {
     "end_time": "2022-10-18T05:21:22.558788Z",
     "start_time": "2022-10-18T05:21:22.545758Z"
    }
   },
   "outputs": [],
   "source": [
    "pos"
   ]
  },
  {
   "cell_type": "code",
   "execution_count": null,
   "metadata": {
    "ExecuteTime": {
     "end_time": "2022-10-18T05:23:08.590496Z",
     "start_time": "2022-10-18T05:23:07.207571Z"
    },
    "scrolled": false
   },
   "outputs": [],
   "source": [
    "photo = []\n",
    "photo_label = []\n",
    "for i in pos:\n",
    "    num_img, label = train_dataloader[i]\n",
    "    num_img = np.array(num_img[0,:,:])\n",
    "    photo.append(num_img)\n",
    "    photo_label.append(label)\n",
    "plt.figure(figsize=(12,16))\n",
    "for i in range(len(pos)):\n",
    "    plot_rect(photo[i], photo_label[i])"
   ]
  },
  {
   "cell_type": "code",
   "execution_count": null,
   "metadata": {
    "ExecuteTime": {
     "end_time": "2022-10-18T05:16:29.449694Z",
     "start_time": "2022-10-18T05:16:28.232683Z"
    },
    "scrolled": false
   },
   "outputs": [],
   "source": [
    "photo = []\n",
    "photo_label = []\n",
    "for i in pos:\n",
    "    num_img, label = train_dataloader[i]\n",
    "    num_img = np.array(num_img)\n",
    "    num_img = num_img.swapaxes(0, 1)\n",
    "    num_img = num_img.swapaxes(1, 2)\n",
    "    photo.append(num_img)\n",
    "    photo_label.append(label)\n",
    "plt.figure(figsize=(12,16))\n",
    "for i in range(len(pos)):\n",
    "    plot_rect(photo[i], photo_label[i])\n"
   ]
  },
  {
   "cell_type": "code",
   "execution_count": null,
   "metadata": {
    "ExecuteTime": {
     "end_time": "2022-10-18T04:45:37.266421Z",
     "start_time": "2022-10-18T04:45:37.256935Z"
    }
   },
   "outputs": [],
   "source": [
    "photo_label[-1]"
   ]
  },
  {
   "cell_type": "code",
   "execution_count": null,
   "metadata": {
    "ExecuteTime": {
     "end_time": "2022-10-18T04:55:37.590040Z",
     "start_time": "2022-10-18T04:55:37.578464Z"
    }
   },
   "outputs": [],
   "source": [
    "for coord in photo_label[-1]:\n",
    "    print(coord)"
   ]
  },
  {
   "cell_type": "code",
   "execution_count": null,
   "metadata": {},
   "outputs": [],
   "source": [
    "plt.imshow(img)\n",
    "index = 0\n",
    "for data in new_list_1:\n",
    "    index += 1\n",
    "    plt.scatter(x=data['x_'],y=data['y_'],s = 1)\n",
    "    plt.text(data['x_'], data['y_'], '{:0.0f}'.format(index), ha='center', va='center')\n",
    "plt.show()\n",
    "plt.gca().add_patch(plt.Rectangle(xy=(cat_dict['bbox'][i][1], cat_dict['bbox'][i][0]),\n",
    "                                  width=cat_dict['bbox'][i][3] - cat_dict['bbox'][i][1], \n",
    "                                  height=cat_dict['bbox'][i][2] - cat_dict['bbox'][i][0],\n",
    "                                  edgecolor=[c / 255 for c in label_colors[cat_idx]],\n",
    "                                  fill=False, linewidth=2))"
   ]
  },
  {
   "cell_type": "code",
   "execution_count": null,
   "metadata": {
    "ExecuteTime": {
     "end_time": "2022-10-18T05:16:25.327271Z",
     "start_time": "2022-10-18T05:16:25.319291Z"
    }
   },
   "outputs": [],
   "source": [
    "def plot_rect(image, label):\n",
    "    plt.figure(figsize=(8,8))\n",
    "    plt.imshow(image)\n",
    "    if(len(image.shape) == 3):\n",
    "        \n",
    "        width,height,channel = image.shape\n",
    "    else:\n",
    "        width,height = image.shape\n",
    "    for coord in label:\n",
    "        class_number, x,y,w,h= coord \n",
    "        centerx = width*(x - w/2)\n",
    "        centery = height*(y - h/2)\n",
    "        W = w * width\n",
    "        H = h * height\n",
    "        plt.gca().add_patch(\n",
    "            plt.Rectangle(\n",
    "                xy=(centerx,centery),\n",
    "                width=W, \n",
    "                height=H,\n",
    "                edgecolor='red',\n",
    "                fill=False, linewidth=1\n",
    "            )\n",
    "        )\n",
    "        plt.text(centerx, centery, '{}'.format(int(class_number)), ha='center', va='center')\n",
    "    return "
   ]
  },
  {
   "cell_type": "code",
   "execution_count": null,
   "metadata": {
    "ExecuteTime": {
     "end_time": "2022-10-18T05:09:55.311174Z",
     "start_time": "2022-10-18T05:09:55.177016Z"
    }
   },
   "outputs": [],
   "source": [
    "plot_rect(photo[-1][:,:,0], photo_label[-1])"
   ]
  },
  {
   "cell_type": "code",
   "execution_count": null,
   "metadata": {
    "ExecuteTime": {
     "end_time": "2022-10-18T05:08:04.761808Z",
     "start_time": "2022-10-18T05:08:04.631648Z"
    }
   },
   "outputs": [],
   "source": [
    "plt.figure(figsize=(8,8))\n",
    "plt.imshow(photo[-1][:,:,0])\n",
    "width,height = photo[-1][:,:,0].shape\n",
    "for coord in photo_label[-1]:\n",
    "    class_number, x,y,w,h= coord \n",
    "    centerx = width*((1-x) - w/2)\n",
    "    centery = height*(y - h/2)\n",
    "    W = w * width\n",
    "    H = h * height\n",
    "    plt.gca().add_patch(\n",
    "        plt.Rectangle(\n",
    "            xy=(centerx,centery),\n",
    "            width=W, \n",
    "            height=H,\n",
    "            edgecolor='red',\n",
    "            fill=False, linewidth=1\n",
    "        )\n",
    "    )\n",
    "    plt.text(centerx, centery, '{}'.format(int(class_number)), ha='center', va='center')"
   ]
  },
  {
   "cell_type": "code",
   "execution_count": null,
   "metadata": {},
   "outputs": [],
   "source": [
    "import os\n",
    "import glob\n",
    "file_path =r'E:\\Dataset\\training_set\\train\\labels'\n",
    "file = glob.glob(file_path+'/*.txt')\n",
    "# print(file)\n",
    "maxNum = 0\n",
    "\n",
    "for i in file:\n",
    "    label = []\n",
    "    with open(i) as f:\n",
    "        lines = f.readlines()\n",
    "        for line in lines:\n",
    "            x = line.replace('\\n', '').split(' ')\n",
    "            x = [float(i) for i in x]\n",
    "            label.append(x)\n",
    "    if(len(label)>maxNum):\n",
    "        maxNum = len(label)\n",
    "        print(i)"
   ]
  }
 ],
 "metadata": {
  "hide_input": false,
  "kernelspec": {
   "display_name": "DSIM",
   "language": "python",
   "name": "dsim"
  },
  "language_info": {
   "codemirror_mode": {
    "name": "ipython",
    "version": 3
   },
   "file_extension": ".py",
   "mimetype": "text/x-python",
   "name": "python",
   "nbconvert_exporter": "python",
   "pygments_lexer": "ipython3",
   "version": "3.10.4"
  },
  "latex_envs": {
   "LaTeX_envs_menu_present": true,
   "autoclose": false,
   "autocomplete": true,
   "bibliofile": "biblio.bib",
   "cite_by": "apalike",
   "current_citInitial": 1,
   "eqLabelWithNumbers": true,
   "eqNumInitial": 1,
   "hotkeys": {
    "equation": "Ctrl-E",
    "itemize": "Ctrl-I"
   },
   "labels_anchors": false,
   "latex_user_defs": false,
   "report_style_numbering": false,
   "user_envs_cfg": false
  },
  "toc": {
   "base_numbering": 1,
   "nav_menu": {},
   "number_sections": true,
   "sideBar": true,
   "skip_h1_title": false,
   "title_cell": "Table of Contents",
   "title_sidebar": "Contents",
   "toc_cell": false,
   "toc_position": {},
   "toc_section_display": true,
   "toc_window_display": false
  },
  "varInspector": {
   "cols": {
    "lenName": 16,
    "lenType": 16,
    "lenVar": 40
   },
   "kernels_config": {
    "python": {
     "delete_cmd_postfix": "",
     "delete_cmd_prefix": "del ",
     "library": "var_list.py",
     "varRefreshCmd": "print(var_dic_list())"
    },
    "r": {
     "delete_cmd_postfix": ") ",
     "delete_cmd_prefix": "rm(",
     "library": "var_list.r",
     "varRefreshCmd": "cat(var_dic_list()) "
    }
   },
   "types_to_exclude": [
    "module",
    "function",
    "builtin_function_or_method",
    "instance",
    "_Feature"
   ],
   "window_display": false
  }
 },
 "nbformat": 4,
 "nbformat_minor": 1
}
